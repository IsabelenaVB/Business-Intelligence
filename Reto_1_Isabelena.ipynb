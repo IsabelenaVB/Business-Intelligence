{
  "nbformat": 4,
  "nbformat_minor": 0,
  "metadata": {
    "colab": {
      "provenance": [],
      "authorship_tag": "ABX9TyP68Wk2uOgbTlKYVN9FrV7I",
      "include_colab_link": true
    },
    "kernelspec": {
      "name": "python3",
      "display_name": "Python 3"
    },
    "language_info": {
      "name": "python"
    }
  },
  "cells": [
    {
      "cell_type": "markdown",
      "metadata": {
        "id": "view-in-github",
        "colab_type": "text"
      },
      "source": [
        "<a href=\"https://colab.research.google.com/github/IsabelenaVB/Business-Intelligence/blob/main/Reto_1_Isabelena.ipynb\" target=\"_parent\"><img src=\"https://colab.research.google.com/assets/colab-badge.svg\" alt=\"Open In Colab\"/></a>"
      ]
    },
    {
      "cell_type": "code",
      "execution_count": null,
      "metadata": {
        "id": "58Wc8zPz-6Rr"
      },
      "outputs": [],
      "source": [
        "import numpy as np\n",
        "import pandas as pd\n",
        "from sklearn.model_selection import train_test_split\n",
        "from sklearn.naive_bayes import GaussianNB\n",
        "from sklearn.metrics import confusion_matrix"
      ]
    },
    {
      "cell_type": "code",
      "source": [
        "nxl= \"/content/1. BD1_Longitudinal Survey_Int.xlsx\"\n",
        "XDB = pd.read_excel(nxl)\n",
        "\n",
        "# Cargar el archivo en un DataFrame\n",
        "xls = pd.ExcelFile(nxl)\n",
        "df = pd.read_excel(xls, sheet_name=\"Longitudinal Survey\")"
      ],
      "metadata": {
        "id": "qvQ61Shp_HqN"
      },
      "execution_count": null,
      "outputs": []
    },
    {
      "cell_type": "code",
      "source": [
        "# 1. Mostrar número total de datos sin datos faltantes\n",
        "df_clean = df.dropna()\n",
        "print(f\"El número total de datos después de eliminar registros con datos faltantes es: {len(df_clean)}\")"
      ],
      "metadata": {
        "colab": {
          "base_uri": "https://localhost:8080/"
        },
        "id": "1G8F-WzoXjfl",
        "outputId": "38886f4c-2c6e-4988-cbf4-a92cab467662"
      },
      "execution_count": null,
      "outputs": [
        {
          "output_type": "stream",
          "name": "stdout",
          "text": [
            "El número total de datos después de eliminar registros con datos faltantes es: 5683\n"
          ]
        }
      ]
    },
    {
      "cell_type": "code",
      "source": [
        "# 2. Porcentaje de los datos de cada categoria\n",
        "# Identificamos las columnas categóricas presentes en la base de datos\n",
        "columnas_categoricas = ['Urban', 'Black', 'Hispanic', 'White', 'Christian', 'WomenPlace',\n",
        "                        'Male', 'Outgoing_Kid', 'Outgoing_Adult', 'HealthPlan',\n",
        "                        'Marital_Status', 'Education', 'WeeksEmployed', 'NumberSpouses']\n",
        "\n",
        "# Filtrar solo las columnas que existen en la base de datos\n",
        "columnas_existentes = [col for col in columnas_categoricas if col in df_clean.columns]\n",
        "\n",
        "# Calcular el porcentaje de cada categoría\n",
        "porcentaje_categorias = df_clean[columnas_existentes].apply(lambda x: x.value_counts(normalize=True) * 100)\n",
        "\n",
        "# Mostrar los porcentajes\n",
        "print(\"\\nPorcentaje de datos en cada categoría de clasificación:\")\n",
        "print(porcentaje_categorias)"
      ],
      "metadata": {
        "colab": {
          "base_uri": "https://localhost:8080/"
        },
        "id": "8iuktZZ-bHPb",
        "outputId": "ad692d2e-476b-47cf-cb95-4f04461ae5cb",
        "collapsed": true
      },
      "execution_count": null,
      "outputs": [
        {
          "output_type": "stream",
          "name": "stdout",
          "text": [
            "\n",
            "Porcentaje de datos en cada categoría de clasificación:\n",
            "          Urban      Black   Hispanic      White  Christian  WomenPlace  \\\n",
            "0.0   20.640507  75.206757  85.183882  50.835826  14.323421   78.303713   \n",
            "1.0   79.359493  24.793243  14.816118  49.164174  85.676579   21.696287   \n",
            "2.0         NaN        NaN        NaN        NaN        NaN         NaN   \n",
            "3.0         NaN        NaN        NaN        NaN        NaN         NaN   \n",
            "4.0         NaN        NaN        NaN        NaN        NaN         NaN   \n",
            "5.0         NaN        NaN        NaN        NaN        NaN         NaN   \n",
            "6.0         NaN        NaN        NaN        NaN        NaN         NaN   \n",
            "7.0         NaN        NaN        NaN        NaN        NaN         NaN   \n",
            "8.0         NaN        NaN        NaN        NaN        NaN         NaN   \n",
            "9.0         NaN        NaN        NaN        NaN        NaN         NaN   \n",
            "10.0        NaN        NaN        NaN        NaN        NaN         NaN   \n",
            "11.0        NaN        NaN        NaN        NaN        NaN         NaN   \n",
            "12.0        NaN        NaN        NaN        NaN        NaN         NaN   \n",
            "13.0        NaN        NaN        NaN        NaN        NaN         NaN   \n",
            "14.0        NaN        NaN        NaN        NaN        NaN         NaN   \n",
            "15.0        NaN        NaN        NaN        NaN        NaN         NaN   \n",
            "16.0        NaN        NaN        NaN        NaN        NaN         NaN   \n",
            "17.0        NaN        NaN        NaN        NaN        NaN         NaN   \n",
            "18.0        NaN        NaN        NaN        NaN        NaN         NaN   \n",
            "19.0        NaN        NaN        NaN        NaN        NaN         NaN   \n",
            "20.0        NaN        NaN        NaN        NaN        NaN         NaN   \n",
            "21.0        NaN        NaN        NaN        NaN        NaN         NaN   \n",
            "22.0        NaN        NaN        NaN        NaN        NaN         NaN   \n",
            "23.0        NaN        NaN        NaN        NaN        NaN         NaN   \n",
            "24.0        NaN        NaN        NaN        NaN        NaN         NaN   \n",
            "25.0        NaN        NaN        NaN        NaN        NaN         NaN   \n",
            "26.0        NaN        NaN        NaN        NaN        NaN         NaN   \n",
            "27.0        NaN        NaN        NaN        NaN        NaN         NaN   \n",
            "28.0        NaN        NaN        NaN        NaN        NaN         NaN   \n",
            "29.0        NaN        NaN        NaN        NaN        NaN         NaN   \n",
            "30.0        NaN        NaN        NaN        NaN        NaN         NaN   \n",
            "31.0        NaN        NaN        NaN        NaN        NaN         NaN   \n",
            "32.0        NaN        NaN        NaN        NaN        NaN         NaN   \n",
            "33.0        NaN        NaN        NaN        NaN        NaN         NaN   \n",
            "34.0        NaN        NaN        NaN        NaN        NaN         NaN   \n",
            "35.0        NaN        NaN        NaN        NaN        NaN         NaN   \n",
            "36.0        NaN        NaN        NaN        NaN        NaN         NaN   \n",
            "37.0        NaN        NaN        NaN        NaN        NaN         NaN   \n",
            "38.0        NaN        NaN        NaN        NaN        NaN         NaN   \n",
            "39.0        NaN        NaN        NaN        NaN        NaN         NaN   \n",
            "40.0        NaN        NaN        NaN        NaN        NaN         NaN   \n",
            "41.0        NaN        NaN        NaN        NaN        NaN         NaN   \n",
            "42.0        NaN        NaN        NaN        NaN        NaN         NaN   \n",
            "43.0        NaN        NaN        NaN        NaN        NaN         NaN   \n",
            "44.0        NaN        NaN        NaN        NaN        NaN         NaN   \n",
            "45.0        NaN        NaN        NaN        NaN        NaN         NaN   \n",
            "46.0        NaN        NaN        NaN        NaN        NaN         NaN   \n",
            "47.0        NaN        NaN        NaN        NaN        NaN         NaN   \n",
            "48.0        NaN        NaN        NaN        NaN        NaN         NaN   \n",
            "49.0        NaN        NaN        NaN        NaN        NaN         NaN   \n",
            "50.0        NaN        NaN        NaN        NaN        NaN         NaN   \n",
            "51.0        NaN        NaN        NaN        NaN        NaN         NaN   \n",
            "52.0        NaN        NaN        NaN        NaN        NaN         NaN   \n",
            "\n",
            "           Male  Outgoing_Kid  Outgoing_Adult  HealthPlan  Marital_Status  \\\n",
            "0.0   51.803625     60.425831       26.904804   13.953898       17.262010   \n",
            "1.0   48.196375     39.574169       73.095196   86.046102       61.868731   \n",
            "2.0         NaN           NaN             NaN         NaN        4.909379   \n",
            "3.0         NaN           NaN             NaN         NaN       15.132852   \n",
            "4.0         NaN           NaN             NaN         NaN             NaN   \n",
            "5.0         NaN           NaN             NaN         NaN             NaN   \n",
            "6.0         NaN           NaN             NaN         NaN        0.827028   \n",
            "7.0         NaN           NaN             NaN         NaN             NaN   \n",
            "8.0         NaN           NaN             NaN         NaN             NaN   \n",
            "9.0         NaN           NaN             NaN         NaN             NaN   \n",
            "10.0        NaN           NaN             NaN         NaN             NaN   \n",
            "11.0        NaN           NaN             NaN         NaN             NaN   \n",
            "12.0        NaN           NaN             NaN         NaN             NaN   \n",
            "13.0        NaN           NaN             NaN         NaN             NaN   \n",
            "14.0        NaN           NaN             NaN         NaN             NaN   \n",
            "15.0        NaN           NaN             NaN         NaN             NaN   \n",
            "16.0        NaN           NaN             NaN         NaN             NaN   \n",
            "17.0        NaN           NaN             NaN         NaN             NaN   \n",
            "18.0        NaN           NaN             NaN         NaN             NaN   \n",
            "19.0        NaN           NaN             NaN         NaN             NaN   \n",
            "20.0        NaN           NaN             NaN         NaN             NaN   \n",
            "21.0        NaN           NaN             NaN         NaN             NaN   \n",
            "22.0        NaN           NaN             NaN         NaN             NaN   \n",
            "23.0        NaN           NaN             NaN         NaN             NaN   \n",
            "24.0        NaN           NaN             NaN         NaN             NaN   \n",
            "25.0        NaN           NaN             NaN         NaN             NaN   \n",
            "26.0        NaN           NaN             NaN         NaN             NaN   \n",
            "27.0        NaN           NaN             NaN         NaN             NaN   \n",
            "28.0        NaN           NaN             NaN         NaN             NaN   \n",
            "29.0        NaN           NaN             NaN         NaN             NaN   \n",
            "30.0        NaN           NaN             NaN         NaN             NaN   \n",
            "31.0        NaN           NaN             NaN         NaN             NaN   \n",
            "32.0        NaN           NaN             NaN         NaN             NaN   \n",
            "33.0        NaN           NaN             NaN         NaN             NaN   \n",
            "34.0        NaN           NaN             NaN         NaN             NaN   \n",
            "35.0        NaN           NaN             NaN         NaN             NaN   \n",
            "36.0        NaN           NaN             NaN         NaN             NaN   \n",
            "37.0        NaN           NaN             NaN         NaN             NaN   \n",
            "38.0        NaN           NaN             NaN         NaN             NaN   \n",
            "39.0        NaN           NaN             NaN         NaN             NaN   \n",
            "40.0        NaN           NaN             NaN         NaN             NaN   \n",
            "41.0        NaN           NaN             NaN         NaN             NaN   \n",
            "42.0        NaN           NaN             NaN         NaN             NaN   \n",
            "43.0        NaN           NaN             NaN         NaN             NaN   \n",
            "44.0        NaN           NaN             NaN         NaN             NaN   \n",
            "45.0        NaN           NaN             NaN         NaN             NaN   \n",
            "46.0        NaN           NaN             NaN         NaN             NaN   \n",
            "47.0        NaN           NaN             NaN         NaN             NaN   \n",
            "48.0        NaN           NaN             NaN         NaN             NaN   \n",
            "49.0        NaN           NaN             NaN         NaN             NaN   \n",
            "50.0        NaN           NaN             NaN         NaN             NaN   \n",
            "51.0        NaN           NaN             NaN         NaN             NaN   \n",
            "52.0        NaN           NaN             NaN         NaN             NaN   \n",
            "\n",
            "      Education  WeeksEmployed  NumberSpouses  \n",
            "0.0    0.017596      12.106282      11.208869  \n",
            "1.0         NaN       0.052789      59.282069  \n",
            "2.0         NaN       0.105578      21.608305  \n",
            "3.0    0.087982       0.158367       6.229104  \n",
            "4.0    0.105578       0.228752       1.178955  \n",
            "5.0    0.035193       0.140771       0.369523  \n",
            "6.0    0.246349       0.123174       0.087982  \n",
            "7.0    0.281541       0.123174       0.017596  \n",
            "8.0    1.073377       0.193560            NaN  \n",
            "9.0    1.830019       0.158367       0.017596  \n",
            "10.0   2.076368       0.211156            NaN  \n",
            "11.0   2.604258       0.228752            NaN  \n",
            "12.0  41.069857       0.228752            NaN  \n",
            "13.0   9.730776       0.228752            NaN  \n",
            "14.0  10.768960       0.193560            NaN  \n",
            "15.0   5.402076       0.158367            NaN  \n",
            "16.0  14.112265       0.105578            NaN  \n",
            "17.0   3.325708       0.123174            NaN  \n",
            "18.0   3.818406       0.387119            NaN  \n",
            "19.0   1.706845       0.175963            NaN  \n",
            "20.0   1.706845       0.246349            NaN  \n",
            "21.0        NaN       0.299138            NaN  \n",
            "22.0        NaN       0.263945            NaN  \n",
            "23.0        NaN       0.123174            NaN  \n",
            "24.0        NaN       0.070385            NaN  \n",
            "25.0        NaN       0.140771            NaN  \n",
            "26.0        NaN       0.246349            NaN  \n",
            "27.0        NaN       0.211156            NaN  \n",
            "28.0        NaN       0.105578            NaN  \n",
            "29.0        NaN       0.263945            NaN  \n",
            "30.0        NaN       0.193560            NaN  \n",
            "31.0        NaN       0.299138            NaN  \n",
            "32.0        NaN       0.228752            NaN  \n",
            "33.0        NaN       0.281541            NaN  \n",
            "34.0        NaN       0.281541            NaN  \n",
            "35.0        NaN       0.387119            NaN  \n",
            "36.0        NaN       0.369523            NaN  \n",
            "37.0        NaN       0.246349            NaN  \n",
            "38.0        NaN       0.193560            NaN  \n",
            "39.0        NaN       0.334330            NaN  \n",
            "40.0        NaN       0.404716            NaN  \n",
            "41.0        NaN       0.299138            NaN  \n",
            "42.0        NaN       0.457505            NaN  \n",
            "43.0        NaN       0.545487            NaN  \n",
            "44.0        NaN       0.457505            NaN  \n",
            "45.0        NaN       0.334330            NaN  \n",
            "46.0        NaN       0.721450            NaN  \n",
            "47.0        NaN       0.510294            NaN  \n",
            "48.0        NaN       0.950202            NaN  \n",
            "49.0        NaN       0.686257            NaN  \n",
            "50.0        NaN       1.302129            NaN  \n",
            "51.0        NaN       1.178955            NaN  \n",
            "52.0        NaN      71.933838            NaN  \n"
          ]
        }
      ]
    },
    {
      "cell_type": "code",
      "source": [
        "# 3. Determinar el intervalo en el cual se encuentra la variación de la Edad\n",
        "edad_min = df['Age'].min()\n",
        "edad_max = df['Age'].max()\n",
        "print(f\"\\nEl intervalo de variación de la Edad es: [{edad_min}, {edad_max}]\")"
      ],
      "metadata": {
        "colab": {
          "base_uri": "https://localhost:8080/"
        },
        "id": "ZtXWYA5BbfWA",
        "outputId": "525ce46e-8cce-4994-fe4f-3bc75747ce94"
      },
      "execution_count": null,
      "outputs": [
        {
          "output_type": "stream",
          "name": "stdout",
          "text": [
            "\n",
            "El intervalo de variación de la Edad es: [15, 22]\n"
          ]
        }
      ]
    },
    {
      "cell_type": "code",
      "source": [
        "# 4. Determinar el intervalo en el cual se encuentra la variación de la Altura\n",
        "altura_min, altura_max = df_clean['Height'].min(), df_clean['Height'].max()\n",
        "print(f\"\\nEl intervalo de variación de la Altura es: [{altura_min}, {altura_max}]\")"
      ],
      "metadata": {
        "colab": {
          "base_uri": "https://localhost:8080/"
        },
        "id": "fyB4HwldsF0v",
        "outputId": "e20cce6a-c81a-4853-85cb-7e50154173a9"
      },
      "execution_count": null,
      "outputs": [
        {
          "output_type": "stream",
          "name": "stdout",
          "text": [
            "\n",
            "El intervalo de variación de la Altura es: [51.0, 80.0]\n"
          ]
        }
      ]
    },
    {
      "cell_type": "code",
      "source": [
        "# 5. Determinar el intervalo en el cual se encuentra la variación del Peso de las Personas\n",
        "peso_min, peso_max = df_clean['Weight'].min(), df_clean['Weight'].max()\n",
        "print(f\"\\nEl intervalo de variación del Peso es: [{peso_min}, {peso_max}]\")\n"
      ],
      "metadata": {
        "colab": {
          "base_uri": "https://localhost:8080/"
        },
        "id": "u4r60WRbsjnS",
        "outputId": "c464acf4-6458-49e8-c736-e82db6d56346"
      },
      "execution_count": null,
      "outputs": [
        {
          "output_type": "stream",
          "name": "stdout",
          "text": [
            "\n",
            "El intervalo de variación del Peso es: [72.0, 375.0]\n"
          ]
        }
      ]
    },
    {
      "cell_type": "code",
      "source": [
        "# 6-7 Exactitud y Tasa de error\n",
        "variables_socioeconomicas = ['Age', 'Mother_Edu', 'Father_Edu', 'FamilySize', 'Self_Esteem', 'Height', 'Weight', 'Income']\n",
        "df_modelo = df_clean[['Urban'] + variables_socioeconomicas]\n",
        "\n",
        "# División en datos de entrada (X) y salida (y)\n",
        "X = df_modelo[variables_socioeconomicas]\n",
        "y = df_modelo['Urban']\n",
        "\n",
        "# Dividir los datos en conjunto de entrenamiento y prueba\n",
        "X_train, X_test, y_train, y_test = train_test_split(X, y, test_size=0.2, random_state=42)\n",
        "\n",
        "# Crear y entrenar el modelo Naive Bayes\n",
        "modelo = GaussianNB()\n",
        "modelo.fit(X_train, y_train)\n",
        "\n",
        "# Realizar predicciones\n",
        "y_pred = modelo.predict(X_test)\n",
        "\n",
        "# Calcular métricas de rendimiento\n",
        "accuracy = accuracy_score(y_test, y_pred)\n",
        "error_rate = 1 - accuracy\n",
        "conf_matrix = confusion_matrix(y_test, y_pred)\n",
        "print(f\"\\nExactitud del modelo: {accuracy:.4f}\")\n",
        "print(f\"Tasa de error del modelo: {error_rate:.4f}\")\n"
      ],
      "metadata": {
        "colab": {
          "base_uri": "https://localhost:8080/"
        },
        "id": "MhLErmkwtbqS",
        "outputId": "443a399e-17bc-4beb-bbf5-bb001f7cf558"
      },
      "execution_count": null,
      "outputs": [
        {
          "output_type": "stream",
          "name": "stdout",
          "text": [
            "\n",
            "Exactitud del modelo: 0.7810\n",
            "Tasa de error del modelo: 0.2190\n"
          ]
        }
      ]
    },
    {
      "cell_type": "code",
      "source": [
        "# 8-9 Extraer sensibilidad y especificidad\n",
        "TP = conf_matrix[1, 1]\n",
        "FN = conf_matrix[1, 0]\n",
        "TN = conf_matrix[0, 0]\n",
        "FP = conf_matrix[0, 1]\n",
        "\n",
        "sensitivity = TP / (TP + FN) if (TP + FN) > 0 else 0\n",
        "specificity = TN / (TN + FP) if (TN + FP) > 0 else 0\n",
        "\n",
        "print(f\"Sensibilidad del modelo: {sensitivity:.4f}\")\n",
        "print(f\"Especificidad del modelo: {specificity:.4f}\")"
      ],
      "metadata": {
        "colab": {
          "base_uri": "https://localhost:8080/"
        },
        "id": "co8Wkx4_tjZu",
        "outputId": "8c25f66b-155e-49dd-b5ff-b44322e494d4"
      },
      "execution_count": null,
      "outputs": [
        {
          "output_type": "stream",
          "name": "stdout",
          "text": [
            "Sensibilidad del modelo: 1.0000\n",
            "Especificidad del modelo: 0.0040\n"
          ]
        }
      ]
    }
  ]
}